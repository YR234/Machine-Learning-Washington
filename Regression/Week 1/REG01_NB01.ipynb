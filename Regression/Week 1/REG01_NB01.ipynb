{
  "nbformat": 4,
  "nbformat_minor": 0,
  "metadata": {
    "kernelspec": {
      "display_name": "Python 2",
      "language": "python",
      "name": "python2"
    },
    "language_info": {
      "codemirror_mode": {
        "name": "ipython",
        "version": 2
      },
      "file_extension": ".py",
      "mimetype": "text/x-python",
      "name": "python",
      "nbconvert_exporter": "python",
      "pygments_lexer": "ipython2",
      "version": "2.7.15"
    },
    "colab": {
      "name": "REG01-NB01.ipynb",
      "provenance": [],
      "include_colab_link": true
    }
  },
  "cells": [
    {
      "cell_type": "markdown",
      "metadata": {
        "id": "view-in-github",
        "colab_type": "text"
      },
      "source": [
        "<a href=\"https://colab.research.google.com/github/YR234/Machine-Learning-Washington/blob/main/Regression/Week%201/REG01_NB01.ipynb\" target=\"_parent\"><img src=\"https://colab.research.google.com/assets/colab-badge.svg\" alt=\"Open In Colab\"/></a>"
      ]
    },
    {
      "cell_type": "markdown",
      "metadata": {
        "id": "GYB4EBRxDot-"
      },
      "source": [
        "# Regression Week 1: Simple Linear Regression"
      ]
    },
    {
      "cell_type": "markdown",
      "metadata": {
        "id": "Ke5ytYNWDouM"
      },
      "source": [
        "In this notebook we will use data on house sales in King County to predict house prices using simple (one input) linear regression. You will:\n",
        "* Use Turi Create SArray and SFrame functions to compute important summary statistics\n",
        "* Write a function to compute the Simple Linear Regression weights using the closed form solution\n",
        "* Write a function to make predictions of the output given the input feature\n",
        "* Turn the regression around to predict the input given the output\n",
        "* Compare two different models for predicting house prices\n",
        "\n",
        "In this notebook you will be provided with some already complete code as well as some code that you should complete yourself in order to answer quiz questions. The code we provide to complte is optional and is there to assist you with solving the problems but feel free to ignore the helper code and write your own."
      ]
    },
    {
      "cell_type": "markdown",
      "metadata": {
        "id": "eCt6dvLqDouP"
      },
      "source": [
        "# Fire up Turi Create"
      ]
    },
    {
      "cell_type": "code",
      "metadata": {
        "colab": {
          "base_uri": "https://localhost:8080/",
          "height": 1000
        },
        "id": "I2mEh9rtDouS",
        "outputId": "7cb95407-4e27-4c58-e75f-66c36f16f383"
      },
      "source": [
        "! pip install turicreate\n",
        "import turicreate"
      ],
      "execution_count": 2,
      "outputs": [
        {
          "output_type": "stream",
          "text": [
            "Collecting turicreate\n",
            "\u001b[?25l  Downloading https://files.pythonhosted.org/packages/75/38/77a081ce35f012bd4789551db9e5196e766a2641cb05114ded9cc268182c/turicreate-6.4.1-cp27-cp27mu-manylinux1_x86_64.whl (91.9MB)\n",
            "\u001b[K     |████████████████████████████████| 91.9MB 67kB/s \n",
            "\u001b[?25hCollecting pillow>=5.2.0\n",
            "\u001b[?25l  Downloading https://files.pythonhosted.org/packages/12/ad/61f8dfba88c4e56196bf6d056cdbba64dc9c5dfdfbc97d02e6472feed913/Pillow-6.2.2-cp27-cp27mu-manylinux1_x86_64.whl (2.1MB)\n",
            "\u001b[K     |████████████████████████████████| 2.1MB 46.5MB/s \n",
            "\u001b[?25hRequirement already satisfied: numpy in /usr/local/lib/python2.7/dist-packages (from turicreate) (1.16.4)\n",
            "Requirement already satisfied: requests>=2.9.1 in /usr/local/lib/python2.7/dist-packages (from turicreate) (2.23.0)\n",
            "Collecting tensorflow<2.1.0,>=2.0.0\n",
            "\u001b[?25l  Downloading https://files.pythonhosted.org/packages/17/08/1ff15637a03b1565dd6cb0916b3ca6873db3a1fc69be0ed851be936e5633/tensorflow-2.0.0-cp27-cp27mu-manylinux2010_x86_64.whl (86.3MB)\n",
            "\u001b[K     |████████████████████████████████| 86.3MB 47kB/s \n",
            "\u001b[?25hRequirement already satisfied: prettytable==0.7.2 in /usr/local/lib/python2.7/dist-packages (from turicreate) (0.7.2)\n",
            "Collecting llvmlite==0.31.0\n",
            "\u001b[?25l  Downloading https://files.pythonhosted.org/packages/91/07/90cd9cdd43b287960b16dbf7929bff2267dc0b6647e8e0117a4937b19620/llvmlite-0.31.0-cp27-cp27mu-manylinux1_x86_64.whl (20.2MB)\n",
            "\u001b[K     |████████████████████████████████| 20.2MB 1.2MB/s \n",
            "\u001b[?25hRequirement already satisfied: pandas>=0.23.2 in /usr/local/lib/python2.7/dist-packages (from turicreate) (0.24.2)\n",
            "Requirement already satisfied: numba<0.51.0 in /usr/local/lib/python2.7/dist-packages (from turicreate) (0.40.1)\n",
            "Requirement already satisfied: decorator>=4.0.9 in /usr/local/lib/python2.7/dist-packages (from turicreate) (4.4.0)\n",
            "Requirement already satisfied: scipy>=1.1.0 in /usr/local/lib/python2.7/dist-packages (from turicreate) (1.2.2)\n",
            "Requirement already satisfied: six>=1.10.0 in /usr/local/lib/python2.7/dist-packages (from turicreate) (1.15.0)\n",
            "Requirement already satisfied: resampy==0.2.1 in /usr/local/lib/python2.7/dist-packages (from turicreate) (0.2.1)\n",
            "Collecting coremltools==3.3\n",
            "\u001b[?25l  Downloading https://files.pythonhosted.org/packages/46/9b/f6feac5d9369c68ee718d3c3140435452773a36ff08ef3bcc4fe378e8676/coremltools-3.3-cp27-none-manylinux1_x86_64.whl (3.4MB)\n",
            "\u001b[K     |████████████████████████████████| 3.4MB 53.4MB/s \n",
            "\u001b[?25hRequirement already satisfied: urllib3!=1.25.0,!=1.25.1,<1.26,>=1.21.1 in /usr/local/lib/python2.7/dist-packages (from requests>=2.9.1->turicreate) (1.24.3)\n",
            "Requirement already satisfied: chardet<4,>=3.0.2 in /usr/local/lib/python2.7/dist-packages (from requests>=2.9.1->turicreate) (3.0.4)\n",
            "Requirement already satisfied: certifi>=2017.4.17 in /usr/local/lib/python2.7/dist-packages (from requests>=2.9.1->turicreate) (2019.6.16)\n",
            "Requirement already satisfied: idna<3,>=2.5 in /usr/local/lib/python2.7/dist-packages (from requests>=2.9.1->turicreate) (2.8)\n",
            "Requirement already satisfied: gast==0.2.2 in /usr/local/lib/python2.7/dist-packages (from tensorflow<2.1.0,>=2.0.0->turicreate) (0.2.2)\n",
            "Requirement already satisfied: grpcio>=1.8.6 in /usr/local/lib/python2.7/dist-packages (from tensorflow<2.1.0,>=2.0.0->turicreate) (1.15.0)\n",
            "Collecting tensorboard<2.1.0,>=2.0.0\n",
            "\u001b[?25l  Downloading https://files.pythonhosted.org/packages/a7/3d/993131c622ae34f9401a81526853f2310a4834bd042420a7982fb5bc5fd0/tensorboard-2.0.2-py2-none-any.whl (3.8MB)\n",
            "\u001b[K     |████████████████████████████████| 3.8MB 46.0MB/s \n",
            "\u001b[?25hRequirement already satisfied: wrapt>=1.11.1 in /usr/local/lib/python2.7/dist-packages (from tensorflow<2.1.0,>=2.0.0->turicreate) (1.11.2)\n",
            "Requirement already satisfied: protobuf>=3.6.1 in /usr/local/lib/python2.7/dist-packages (from tensorflow<2.1.0,>=2.0.0->turicreate) (3.8.0)\n",
            "Requirement already satisfied: keras-preprocessing>=1.0.5 in /usr/local/lib/python2.7/dist-packages (from tensorflow<2.1.0,>=2.0.0->turicreate) (1.1.0)\n",
            "Requirement already satisfied: backports.weakref>=1.0rc1; python_version < \"3.4\" in /usr/local/lib/python2.7/dist-packages (from tensorflow<2.1.0,>=2.0.0->turicreate) (1.0.post1)\n",
            "Requirement already satisfied: keras-applications>=1.0.8 in /usr/local/lib/python2.7/dist-packages (from tensorflow<2.1.0,>=2.0.0->turicreate) (1.0.8)\n",
            "Requirement already satisfied: wheel in /usr/local/lib/python2.7/dist-packages (from tensorflow<2.1.0,>=2.0.0->turicreate) (0.36.2)\n",
            "Requirement already satisfied: functools32>=3.2.3 in /usr/local/lib/python2.7/dist-packages (from tensorflow<2.1.0,>=2.0.0->turicreate) (3.2.3.post2)\n",
            "Requirement already satisfied: absl-py>=0.7.0 in /usr/local/lib/python2.7/dist-packages (from tensorflow<2.1.0,>=2.0.0->turicreate) (0.7.1)\n",
            "Requirement already satisfied: opt-einsum>=2.3.2 in /usr/local/lib/python2.7/dist-packages (from tensorflow<2.1.0,>=2.0.0->turicreate) (2.3.2)\n",
            "Requirement already satisfied: mock>=2.0.0 in /usr/local/lib/python2.7/dist-packages (from tensorflow<2.1.0,>=2.0.0->turicreate) (2.0.0)\n",
            "Requirement already satisfied: termcolor>=1.1.0 in /usr/local/lib/python2.7/dist-packages (from tensorflow<2.1.0,>=2.0.0->turicreate) (1.1.0)\n",
            "Requirement already satisfied: google-pasta>=0.1.6 in /usr/local/lib/python2.7/dist-packages (from tensorflow<2.1.0,>=2.0.0->turicreate) (0.1.7)\n",
            "Requirement already satisfied: enum34>=1.1.6; python_version < \"3.4\" in /usr/local/lib/python2.7/dist-packages (from tensorflow<2.1.0,>=2.0.0->turicreate) (1.1.6)\n",
            "Collecting tensorflow-estimator<2.1.0,>=2.0.0\n",
            "\u001b[?25l  Downloading https://files.pythonhosted.org/packages/fc/08/8b927337b7019c374719145d1dceba21a8bb909b93b1ad6f8fb7d22c1ca1/tensorflow_estimator-2.0.1-py2.py3-none-any.whl (449kB)\n",
            "\u001b[K     |████████████████████████████████| 450kB 44.1MB/s \n",
            "\u001b[?25hRequirement already satisfied: astor>=0.6.0 in /usr/local/lib/python2.7/dist-packages (from tensorflow<2.1.0,>=2.0.0->turicreate) (0.8.1)\n",
            "Requirement already satisfied: pytz>=2011k in /usr/local/lib/python2.7/dist-packages (from pandas>=0.23.2->turicreate) (2018.9)\n",
            "Requirement already satisfied: python-dateutil>=2.5.0 in /usr/local/lib/python2.7/dist-packages (from pandas>=0.23.2->turicreate) (2.5.3)\n",
            "Requirement already satisfied: funcsigs in /usr/local/lib/python2.7/dist-packages (from numba<0.51.0->turicreate) (1.0.2)\n",
            "Requirement already satisfied: singledispatch in /usr/local/lib/python2.7/dist-packages (from numba<0.51.0->turicreate) (3.4.0.3)\n",
            "Requirement already satisfied: futures>=2.2.0 in /usr/local/lib/python2.7/dist-packages (from grpcio>=1.8.6->tensorflow<2.1.0,>=2.0.0->turicreate) (3.2.0)\n",
            "Requirement already satisfied: setuptools>=41.0.0 in /usr/local/lib/python2.7/dist-packages (from tensorboard<2.1.0,>=2.0.0->tensorflow<2.1.0,>=2.0.0->turicreate) (44.1.1)\n",
            "Collecting google-auth-oauthlib<0.5,>=0.4.1\n",
            "  Downloading https://files.pythonhosted.org/packages/7b/b8/88def36e74bee9fce511c9519571f4e485e890093ab7442284f4ffaef60b/google_auth_oauthlib-0.4.1-py2.py3-none-any.whl\n",
            "Requirement already satisfied: werkzeug>=0.11.15 in /usr/local/lib/python2.7/dist-packages (from tensorboard<2.1.0,>=2.0.0->tensorflow<2.1.0,>=2.0.0->turicreate) (0.15.5)\n",
            "Requirement already satisfied: google-auth<2,>=1.6.3 in /usr/local/lib/python2.7/dist-packages (from tensorboard<2.1.0,>=2.0.0->tensorflow<2.1.0,>=2.0.0->turicreate) (1.28.0)\n",
            "Requirement already satisfied: markdown>=2.6.8 in /usr/local/lib/python2.7/dist-packages (from tensorboard<2.1.0,>=2.0.0->tensorflow<2.1.0,>=2.0.0->turicreate) (3.1.1)\n",
            "Requirement already satisfied: h5py in /usr/local/lib/python2.7/dist-packages (from keras-applications>=1.0.8->tensorflow<2.1.0,>=2.0.0->turicreate) (2.8.0)\n",
            "Requirement already satisfied: pbr>=0.11 in /usr/local/lib/python2.7/dist-packages (from mock>=2.0.0->tensorflow<2.1.0,>=2.0.0->turicreate) (5.4.0)\n",
            "Requirement already satisfied: requests-oauthlib>=0.7.0 in /usr/local/lib/python2.7/dist-packages (from google-auth-oauthlib<0.5,>=0.4.1->tensorboard<2.1.0,>=2.0.0->tensorflow<2.1.0,>=2.0.0->turicreate) (1.2.0)\n",
            "Requirement already satisfied: cachetools<5.0,>=2.0.0 in /usr/local/lib/python2.7/dist-packages (from google-auth<2,>=1.6.3->tensorboard<2.1.0,>=2.0.0->tensorflow<2.1.0,>=2.0.0->turicreate) (3.1.1)\n",
            "Requirement already satisfied: pyasn1-modules>=0.2.1 in /usr/local/lib/python2.7/dist-packages (from google-auth<2,>=1.6.3->tensorboard<2.1.0,>=2.0.0->tensorflow<2.1.0,>=2.0.0->turicreate) (0.2.5)\n",
            "Requirement already satisfied: rsa<4.6; python_version < \"3.6\" in /usr/local/lib/python2.7/dist-packages (from google-auth<2,>=1.6.3->tensorboard<2.1.0,>=2.0.0->tensorflow<2.1.0,>=2.0.0->turicreate) (4.0)\n",
            "Requirement already satisfied: oauthlib>=3.0.0 in /usr/local/lib/python2.7/dist-packages (from requests-oauthlib>=0.7.0->google-auth-oauthlib<0.5,>=0.4.1->tensorboard<2.1.0,>=2.0.0->tensorflow<2.1.0,>=2.0.0->turicreate) (3.0.2)\n",
            "Requirement already satisfied: pyasn1<0.5.0,>=0.4.1 in /usr/local/lib/python2.7/dist-packages (from pyasn1-modules>=0.2.1->google-auth<2,>=1.6.3->tensorboard<2.1.0,>=2.0.0->tensorflow<2.1.0,>=2.0.0->turicreate) (0.4.5)\n",
            "\u001b[31mERROR: fastai 0.7.0 has requirement torch<0.4, but you'll have torch 1.4.0 which is incompatible.\u001b[0m\n",
            "\u001b[31mERROR: tensorboard 2.0.2 has requirement grpcio>=1.24.3, but you'll have grpcio 1.15.0 which is incompatible.\u001b[0m\n",
            "Installing collected packages: pillow, google-auth-oauthlib, tensorboard, tensorflow-estimator, tensorflow, llvmlite, coremltools, turicreate\n",
            "  Found existing installation: Pillow 4.3.0\n",
            "    Uninstalling Pillow-4.3.0:\n",
            "      Successfully uninstalled Pillow-4.3.0\n",
            "  Found existing installation: google-auth-oauthlib 0.4.0\n",
            "    Uninstalling google-auth-oauthlib-0.4.0:\n",
            "      Successfully uninstalled google-auth-oauthlib-0.4.0\n",
            "  Found existing installation: tensorboard 2.1.0\n",
            "    Uninstalling tensorboard-2.1.0:\n",
            "      Successfully uninstalled tensorboard-2.1.0\n",
            "  Found existing installation: tensorflow-estimator 1.15.0\n",
            "    Uninstalling tensorflow-estimator-1.15.0:\n",
            "      Successfully uninstalled tensorflow-estimator-1.15.0\n",
            "  Found existing installation: tensorflow 2.1.0\n",
            "    Uninstalling tensorflow-2.1.0:\n",
            "      Successfully uninstalled tensorflow-2.1.0\n",
            "  Found existing installation: llvmlite 0.29.0\n",
            "    Uninstalling llvmlite-0.29.0:\n",
            "      Successfully uninstalled llvmlite-0.29.0\n",
            "Successfully installed coremltools-3.3 google-auth-oauthlib-0.4.1 llvmlite-0.31.0 pillow-6.2.2 tensorboard-2.0.2 tensorflow-2.0.0 tensorflow-estimator-2.0.1 turicreate-6.4.1\n"
          ],
          "name": "stdout"
        },
        {
          "output_type": "display_data",
          "data": {
            "application/vnd.colab-display-data+json": {
              "pip_warning": {
                "packages": [
                  "PIL"
                ]
              }
            }
          },
          "metadata": {
            "tags": []
          }
        }
      ]
    },
    {
      "cell_type": "markdown",
      "metadata": {
        "id": "20rKAYg4DouU"
      },
      "source": [
        "# Load house sales data\n",
        "\n",
        "Dataset is from house sales in King County, the region where the city of Seattle, WA is located."
      ]
    },
    {
      "cell_type": "code",
      "metadata": {
        "id": "LlBNi44QDouU"
      },
      "source": [
        "sales = turicreate.SFrame('home_data.sframe/')"
      ],
      "execution_count": null,
      "outputs": []
    },
    {
      "cell_type": "markdown",
      "metadata": {
        "id": "mr-kXodKDouW"
      },
      "source": [
        "# Split data into training and testing"
      ]
    },
    {
      "cell_type": "markdown",
      "metadata": {
        "id": "KfZi1hFpDouW"
      },
      "source": [
        "We use seed=0 so that everyone running this notebook gets the same results.  In practice, you may set a random seed (or let Turi Create pick a random seed for you).  "
      ]
    },
    {
      "cell_type": "code",
      "metadata": {
        "id": "J-d8rjToDouX"
      },
      "source": [
        "train_data,test_data = sales.random_split(.8,seed=0)"
      ],
      "execution_count": null,
      "outputs": []
    },
    {
      "cell_type": "markdown",
      "metadata": {
        "id": "-11thMJrDouY"
      },
      "source": [
        "# Useful SFrame summary functions"
      ]
    },
    {
      "cell_type": "markdown",
      "metadata": {
        "id": "QtIGEuZGDouY"
      },
      "source": [
        "In order to make use of the closed form solution as well as take advantage of turi create's built in functions we will review some important ones. In particular:\n",
        "* Computing the sum of an SArray\n",
        "* Computing the arithmetic average (mean) of an SArray\n",
        "* multiplying SArrays by constants\n",
        "* multiplying SArrays by other SArrays"
      ]
    },
    {
      "cell_type": "code",
      "metadata": {
        "id": "nkExk4-jDouc"
      },
      "source": [
        "# Let's compute the mean of the House Prices in King County in 2 different ways.\n",
        "prices = sales['price'] # extract the price column of the sales SFrame -- this is now an SArray\n",
        "\n",
        "# recall that the arithmetic average (the mean) is the sum of the prices divided by the total number of houses:\n",
        "sum_prices = prices.sum()\n",
        "num_houses = len(prices) # when prices is an SArray len() returns its length\n",
        "avg_price_1 = sum_prices/num_houses\n",
        "avg_price_2 = prices.mean() # if you just want the average, the .mean() function\n",
        "print \"average price via method 1: \" + str(avg_price_1)\n",
        "print \"average price via method 2: \" + str(avg_price_2)"
      ],
      "execution_count": null,
      "outputs": []
    },
    {
      "cell_type": "markdown",
      "metadata": {
        "id": "wZn0jw3TDoud"
      },
      "source": [
        "As we see we get the same answer both ways"
      ]
    },
    {
      "cell_type": "code",
      "metadata": {
        "id": "HKeBvqUtDoud"
      },
      "source": [
        "# if we want to multiply every price by 0.5 it's a simple as:\n",
        "half_prices = 0.5*prices\n",
        "# Let's compute the sum of squares of price. We can multiply two SArrays of the same length elementwise also with *\n",
        "prices_squared = prices*prices\n",
        "sum_prices_squared = prices_squared.sum() # price_squared is an SArray of the squares and we want to add them up.\n",
        "print \"the sum of price squared is: \" + str(sum_prices_squared)"
      ],
      "execution_count": null,
      "outputs": []
    },
    {
      "cell_type": "markdown",
      "metadata": {
        "id": "8efR-935Doue"
      },
      "source": [
        "Aside: The python notation x.xxe+yy means x.xx \\* 10^(yy). e.g 100 = 10^2 = 1*10^2 = 1e2 "
      ]
    },
    {
      "cell_type": "markdown",
      "metadata": {
        "id": "TP-W78bADouf"
      },
      "source": [
        "# Build a generic simple linear regression function "
      ]
    },
    {
      "cell_type": "markdown",
      "metadata": {
        "id": "RbncQ-cnDouf"
      },
      "source": [
        "Armed with these SArray functions we can use the closed form solution found from lecture to compute the slope and intercept for a simple linear regression on observations stored as SArrays: input_feature, output.\n",
        "\n",
        "Complete the following function (or write your own) to compute the simple linear regression slope and intercept:"
      ]
    },
    {
      "cell_type": "code",
      "metadata": {
        "id": "KW745wgCDoug"
      },
      "source": [
        "def simple_linear_regression(input_feature, output):\n",
        "    # compute the sum of input_feature and output\n",
        "    \n",
        "    # compute the product of the output and the input_feature and its sum\n",
        "    \n",
        "    # compute the squared value of the input_feature and its sum\n",
        "    \n",
        "    # use the formula for the slope\n",
        "    \n",
        "    # use the formula for the intercept\n",
        "    \n",
        "    return (intercept, slope)"
      ],
      "execution_count": null,
      "outputs": []
    },
    {
      "cell_type": "markdown",
      "metadata": {
        "id": "-SVEsJhNDouh"
      },
      "source": [
        "We can test that our function works by passing it something where we know the answer. In particular we can generate a feature and then put the output exactly on a line: output = 1 + 1\\*input_feature then we know both our slope and intercept should be 1"
      ]
    },
    {
      "cell_type": "code",
      "metadata": {
        "scrolled": true,
        "id": "JMIo7c0zDouh"
      },
      "source": [
        "test_feature = turicreate.SArray(range(5))\n",
        "test_output = turicreate.SArray(1 + 1*test_feature)\n",
        "(test_intercept, test_slope) =  simple_linear_regression(test_feature, test_output)\n",
        "print \"Intercept: \" + str(test_intercept)\n",
        "print \"Slope: \" + str(test_slope)"
      ],
      "execution_count": null,
      "outputs": []
    },
    {
      "cell_type": "markdown",
      "metadata": {
        "id": "dk6EqoxcDoui"
      },
      "source": [
        "Now that we know it works let's build a regression model for predicting price based on sqft_living. Rembember that we train on train_data!"
      ]
    },
    {
      "cell_type": "code",
      "metadata": {
        "id": "a_k5JouFDouj"
      },
      "source": [
        "sqft_intercept, sqft_slope = simple_linear_regression(train_data['sqft_living'], train_data['price'])\n",
        "\n",
        "print \"Intercept: \" + str(sqft_intercept)\n",
        "print \"Slope: \" + str(sqft_slope)"
      ],
      "execution_count": null,
      "outputs": []
    },
    {
      "cell_type": "markdown",
      "metadata": {
        "id": "v7_cdIvWDouj"
      },
      "source": [
        "# Predicting Values"
      ]
    },
    {
      "cell_type": "markdown",
      "metadata": {
        "id": "P_kaisZvDouj"
      },
      "source": [
        "Now that we have the model parameters: intercept & slope we can make predictions. Using SArrays it's easy to multiply an SArray by a constant and add a constant value. Complete the following function to return the predicted output given the input_feature, slope and intercept:"
      ]
    },
    {
      "cell_type": "code",
      "metadata": {
        "id": "RkoVw-0dDouk"
      },
      "source": [
        "def get_regression_predictions(input_feature, intercept, slope):\n",
        "    # calculate the predicted values:\n",
        "    \n",
        "    return predicted_values"
      ],
      "execution_count": null,
      "outputs": []
    },
    {
      "cell_type": "markdown",
      "metadata": {
        "id": "YVPpIgR7Doul"
      },
      "source": [
        "Now that we can calculate a prediction given the slope and intercept let's make a prediction. Use (or alter) the following to find out the estimated price for a house with 2650 squarefeet according to the squarefeet model we estiamted above.\n",
        "\n",
        "**Quiz Question: Using your Slope and Intercept from (4), What is the predicted price for a house with 2650 sqft?**"
      ]
    },
    {
      "cell_type": "code",
      "metadata": {
        "id": "UX1uW91VDoul"
      },
      "source": [
        "my_house_sqft = 2650\n",
        "estimated_price = get_regression_predictions(my_house_sqft, sqft_intercept, sqft_slope)\n",
        "print \"The estimated price for a house with %d squarefeet is $%.2f\" % (my_house_sqft, estimated_price)"
      ],
      "execution_count": null,
      "outputs": []
    },
    {
      "cell_type": "markdown",
      "metadata": {
        "id": "4NOTVgguDoul"
      },
      "source": [
        "# Residual Sum of Squares"
      ]
    },
    {
      "cell_type": "markdown",
      "metadata": {
        "id": "fHOrbm2VDoum"
      },
      "source": [
        "Now that we have a model and can make predictions let's evaluate our model using Residual Sum of Squares (RSS). Recall that RSS is the sum of the squares of the residuals and the residuals is just a fancy word for the difference between the predicted output and the true output. \n",
        "\n",
        "Complete the following (or write your own) function to compute the RSS of a simple linear regression model given the input_feature, output, intercept and slope:"
      ]
    },
    {
      "cell_type": "code",
      "metadata": {
        "id": "uy8engoLDoum"
      },
      "source": [
        "def get_residual_sum_of_squares(input_feature, output, intercept, slope):\n",
        "    # First get the predictions\n",
        "\n",
        "    # then compute the residuals (since we are squaring it doesn't matter which order you subtract)\n",
        "\n",
        "    # square the residuals and add them up\n",
        "\n",
        "    return(RSS)"
      ],
      "execution_count": null,
      "outputs": []
    },
    {
      "cell_type": "markdown",
      "metadata": {
        "id": "whXAeVD2Doum"
      },
      "source": [
        "Let's test our get_residual_sum_of_squares function by applying it to the test model where the data lie exactly on a line. Since they lie exactly on a line the residual sum of squares should be zero!"
      ]
    },
    {
      "cell_type": "code",
      "metadata": {
        "id": "r7UPIZ_rDoun"
      },
      "source": [
        "print get_residual_sum_of_squares(test_feature, test_output, test_intercept, test_slope) # should be 0.0"
      ],
      "execution_count": null,
      "outputs": []
    },
    {
      "cell_type": "markdown",
      "metadata": {
        "id": "KrCTqADqDoun"
      },
      "source": [
        "Now use your function to calculate the RSS on training data from the squarefeet model calculated above.\n",
        "\n",
        "**Quiz Question: According to this function and the slope and intercept from the squarefeet model What is the RSS for the simple linear regression using squarefeet to predict prices on TRAINING data?**"
      ]
    },
    {
      "cell_type": "code",
      "metadata": {
        "id": "Fmu22yNuDouo"
      },
      "source": [
        "rss_prices_on_sqft = get_residual_sum_of_squares(train_data['sqft_living'], train_data['price'], sqft_intercept, sqft_slope)\n",
        "print 'The RSS of predicting Prices based on Square Feet is : ' + str(rss_prices_on_sqft)"
      ],
      "execution_count": null,
      "outputs": []
    },
    {
      "cell_type": "markdown",
      "metadata": {
        "id": "_BSq2c5vDouo"
      },
      "source": [
        "# Predict the squarefeet given price"
      ]
    },
    {
      "cell_type": "markdown",
      "metadata": {
        "id": "MJlRDw8cDoup"
      },
      "source": [
        "What if we want to predict the squarefoot given the price? Since we have an equation y = a + b\\*x we can solve the function for x. So that if we have the intercept (a) and the slope (b) and the price (y) we can solve for the estimated squarefeet (x).\n",
        "\n",
        "Complete the following function to compute the inverse regression estimate, i.e. predict the input_feature given the output."
      ]
    },
    {
      "cell_type": "code",
      "metadata": {
        "id": "a0xFXotjDouq"
      },
      "source": [
        "def inverse_regression_predictions(output, intercept, slope):\n",
        "    # solve output = intercept + slope*input_feature for input_feature. Use this equation to compute the inverse predictions:\n",
        "\n",
        "    return estimated_feature"
      ],
      "execution_count": null,
      "outputs": []
    },
    {
      "cell_type": "markdown",
      "metadata": {
        "id": "NweFAoHsDouq"
      },
      "source": [
        "Now that we have a function to compute the squarefeet given the price from our simple regression model let's see how big we might expect a house that costs $800,000 to be.\n",
        "\n",
        "**Quiz Question: According to this function and the regression slope and intercept from (3) what is the estimated square-feet for a house costing $800,000?**"
      ]
    },
    {
      "cell_type": "code",
      "metadata": {
        "id": "0dnwrNHpDour"
      },
      "source": [
        "my_house_price = 800000\n",
        "estimated_squarefeet = inverse_regression_predictions(my_house_price, sqft_intercept, sqft_slope)\n",
        "print \"The estimated squarefeet for a house worth $%.2f is %d\" % (my_house_price, estimated_squarefeet)"
      ],
      "execution_count": null,
      "outputs": []
    },
    {
      "cell_type": "markdown",
      "metadata": {
        "id": "ztV8QSv_Dous"
      },
      "source": [
        "# New Model: estimate prices from bedrooms"
      ]
    },
    {
      "cell_type": "markdown",
      "metadata": {
        "id": "tawxzYd-Dous"
      },
      "source": [
        "We have made one model for predicting house prices using squarefeet, but there are many other features in the sales SFrame. \n",
        "Use your simple linear regression function to estimate the regression parameters from predicting Prices based on number of bedrooms. Use the training data!"
      ]
    },
    {
      "cell_type": "code",
      "metadata": {
        "id": "mbzV_T0KDous"
      },
      "source": [
        "# Estimate the slope and intercept for predicting 'price' based on 'bedrooms'\n",
        "\n"
      ],
      "execution_count": null,
      "outputs": []
    },
    {
      "cell_type": "markdown",
      "metadata": {
        "id": "Vf2tdy5tDout"
      },
      "source": [
        "# Test your Linear Regression Algorithm"
      ]
    },
    {
      "cell_type": "markdown",
      "metadata": {
        "id": "GapMLC7RDout"
      },
      "source": [
        "Now we have two models for predicting the price of a house. How do we know which one is better? Calculate the RSS on the TEST data (remember this data wasn't involved in learning the model). Compute the RSS from predicting prices using bedrooms and from predicting prices using squarefeet.\n",
        "\n",
        "**Quiz Question: Which model (square feet or bedrooms) has lowest RSS on TEST data? Think about why this might be the case.**"
      ]
    },
    {
      "cell_type": "code",
      "metadata": {
        "id": "4Ts8-s-6Douu"
      },
      "source": [
        "# Compute RSS when using bedrooms on TEST data:\n"
      ],
      "execution_count": null,
      "outputs": []
    },
    {
      "cell_type": "code",
      "metadata": {
        "id": "qsMsw-JVDouv"
      },
      "source": [
        "# Compute RSS when using squarefeet on TEST data:\n"
      ],
      "execution_count": null,
      "outputs": []
    }
  ]
}